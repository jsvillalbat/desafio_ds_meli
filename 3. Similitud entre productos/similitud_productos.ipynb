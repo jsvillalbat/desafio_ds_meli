{
 "cells": [
  {
   "cell_type": "code",
   "execution_count": 54,
   "metadata": {},
   "outputs": [],
   "source": [
    "import pandas as pd\n",
    "from sklearn.feature_extraction.text import TfidfVectorizer\n",
    "from sklearn.metrics.pairwise import cosine_similarity"
   ]
  },
  {
   "attachments": {},
   "cell_type": "markdown",
   "metadata": {},
   "source": [
    "## Dataset de Train"
   ]
  },
  {
   "attachments": {},
   "cell_type": "markdown",
   "metadata": {},
   "source": [
    "Se carga la data de entrenamiento para encontrar la similitud de productos del dataset de test"
   ]
  },
  {
   "cell_type": "code",
   "execution_count": 63,
   "metadata": {},
   "outputs": [],
   "source": [
    "train_data = pd.read_csv(\"../dataset/items_titles.csv\")"
   ]
  },
  {
   "attachments": {},
   "cell_type": "markdown",
   "metadata": {},
   "source": [
    "Se tiene que preprocesar la data para tener tener todos los titulos en minúsuculo y eliminar caracteres especiales que puedan alterar la similitud de una manera importante."
   ]
  },
  {
   "cell_type": "code",
   "execution_count": 64,
   "metadata": {},
   "outputs": [
    {
     "name": "stderr",
     "output_type": "stream",
     "text": [
      "/var/folders/76/xcgbvlyj3p173vhr81m7mn780000gn/T/ipykernel_2306/497468271.py:2: FutureWarning: The default value of regex will change from True to False in a future version.\n",
      "  train_data['ITE_ITEM_TITLE'] = train_data['ITE_ITEM_TITLE'].str.replace('[^\\w\\s]','')\n"
     ]
    }
   ],
   "source": [
    "train_data['ITE_ITEM_TITLE'] = train_data['ITE_ITEM_TITLE'].str.lower()\n",
    "train_data['ITE_ITEM_TITLE'] = train_data['ITE_ITEM_TITLE'].str.replace('[^\\w\\s]','')"
   ]
  },
  {
   "cell_type": "code",
   "execution_count": 65,
   "metadata": {},
   "outputs": [
    {
     "data": {
      "text/html": [
       "<div>\n",
       "<style scoped>\n",
       "    .dataframe tbody tr th:only-of-type {\n",
       "        vertical-align: middle;\n",
       "    }\n",
       "\n",
       "    .dataframe tbody tr th {\n",
       "        vertical-align: top;\n",
       "    }\n",
       "\n",
       "    .dataframe thead th {\n",
       "        text-align: right;\n",
       "    }\n",
       "</style>\n",
       "<table border=\"1\" class=\"dataframe\">\n",
       "  <thead>\n",
       "    <tr style=\"text-align: right;\">\n",
       "      <th></th>\n",
       "      <th>ITE_ITEM_TITLE</th>\n",
       "    </tr>\n",
       "  </thead>\n",
       "  <tbody>\n",
       "    <tr>\n",
       "      <th>0</th>\n",
       "      <td>tênis ascension posh masculino  preto e vermelho</td>\n",
       "    </tr>\n",
       "    <tr>\n",
       "      <th>1</th>\n",
       "      <td>tenis para caminhada super levinho spider corr...</td>\n",
       "    </tr>\n",
       "    <tr>\n",
       "      <th>2</th>\n",
       "      <td>tênis feminino le parc hocks blackice original...</td>\n",
       "    </tr>\n",
       "    <tr>\n",
       "      <th>3</th>\n",
       "      <td>tênis olympikus esportivo academia nova tendên...</td>\n",
       "    </tr>\n",
       "    <tr>\n",
       "      <th>4</th>\n",
       "      <td>inteligente led bicicleta tauda luz usb bicicl...</td>\n",
       "    </tr>\n",
       "    <tr>\n",
       "      <th>5</th>\n",
       "      <td>tênis casual masculino zarato 941 preto 632</td>\n",
       "    </tr>\n",
       "    <tr>\n",
       "      <th>6</th>\n",
       "      <td>tênis infantil ortopasso conforto jogging</td>\n",
       "    </tr>\n",
       "    <tr>\n",
       "      <th>7</th>\n",
       "      <td>tv samsung qled 8k q800t semi nova</td>\n",
       "    </tr>\n",
       "    <tr>\n",
       "      <th>8</th>\n",
       "      <td>tênis usthemp short temático  maria viralata 2</td>\n",
       "    </tr>\n",
       "    <tr>\n",
       "      <th>9</th>\n",
       "      <td>sapatênis west coast urban couro masculino</td>\n",
       "    </tr>\n",
       "  </tbody>\n",
       "</table>\n",
       "</div>"
      ],
      "text/plain": [
       "                                      ITE_ITEM_TITLE\n",
       "0  tênis ascension posh masculino  preto e vermelho \n",
       "1  tenis para caminhada super levinho spider corr...\n",
       "2  tênis feminino le parc hocks blackice original...\n",
       "3  tênis olympikus esportivo academia nova tendên...\n",
       "4  inteligente led bicicleta tauda luz usb bicicl...\n",
       "5        tênis casual masculino zarato 941 preto 632\n",
       "6          tênis infantil ortopasso conforto jogging\n",
       "7                 tv samsung qled 8k q800t semi nova\n",
       "8     tênis usthemp short temático  maria viralata 2\n",
       "9         sapatênis west coast urban couro masculino"
      ]
     },
     "execution_count": 65,
     "metadata": {},
     "output_type": "execute_result"
    }
   ],
   "source": [
    "train_data.head(10)"
   ]
  },
  {
   "attachments": {},
   "cell_type": "markdown",
   "metadata": {},
   "source": [
    "Se vectoriza cada uno de los titulos de los items, para transformar estos titulos a vectores. Pra esto se usa TfidVectorizer de sklearn y se usa el método fit_transform para obtener esa matriz de que contiene todos los vectores de los items"
   ]
  },
  {
   "cell_type": "code",
   "execution_count": 66,
   "metadata": {},
   "outputs": [],
   "source": [
    "vectorizer = TfidfVectorizer()\n",
    "vectorized_train_data = vectorizer.fit_transform(train_data[\"ITE_ITEM_TITLE\"])"
   ]
  },
  {
   "attachments": {},
   "cell_type": "markdown",
   "metadata": {},
   "source": [
    "Se usa cosine_similarity de sklearn para tener un valor de similaridad entre cada uno de los titulos de items en el dataset, es practicamente el producto punto entre cada uno de los titulos de items que estan representados en vectores."
   ]
  },
  {
   "cell_type": "code",
   "execution_count": 67,
   "metadata": {},
   "outputs": [],
   "source": [
    "cosine_similarities = cosine_similarity(vectorized_train_data)"
   ]
  },
  {
   "cell_type": "code",
   "execution_count": 68,
   "metadata": {},
   "outputs": [],
   "source": [
    "results = []\n",
    "for i, row in enumerate(train_data.itertuples()):\n",
    "    title = row.ITE_ITEM_TITLE\n",
    "    similarity_scores = cosine_similarities[i]\n",
    "    most_similar_indices = similarity_scores.argsort()[-2:][::-1]\n",
    "    most_similar_title = train_data.iloc[most_similar_indices[1]].ITE_ITEM_TITLE\n",
    "    similarity = similarity_scores[most_similar_indices[1]]\n",
    "    results.append({'Item': title, 'Most similar item': most_similar_title, 'Similarity score': similarity})\n",
    "    \n",
    "# Create a DataFrame from the list of results\n",
    "items_similarity = pd.DataFrame(results)"
   ]
  },
  {
   "cell_type": "code",
   "execution_count": 61,
   "metadata": {},
   "outputs": [
    {
     "data": {
      "text/html": [
       "<div>\n",
       "<style scoped>\n",
       "    .dataframe tbody tr th:only-of-type {\n",
       "        vertical-align: middle;\n",
       "    }\n",
       "\n",
       "    .dataframe tbody tr th {\n",
       "        vertical-align: top;\n",
       "    }\n",
       "\n",
       "    .dataframe thead th {\n",
       "        text-align: right;\n",
       "    }\n",
       "</style>\n",
       "<table border=\"1\" class=\"dataframe\">\n",
       "  <thead>\n",
       "    <tr style=\"text-align: right;\">\n",
       "      <th></th>\n",
       "      <th>Item</th>\n",
       "      <th>Most similar item</th>\n",
       "      <th>Similarity score</th>\n",
       "    </tr>\n",
       "  </thead>\n",
       "  <tbody>\n",
       "    <tr>\n",
       "      <th>0</th>\n",
       "      <td>tênis ascension posh masculino  preto e vermelho</td>\n",
       "      <td>tênis masculino ascension caminhada barato pre...</td>\n",
       "      <td>0.586383</td>\n",
       "    </tr>\n",
       "    <tr>\n",
       "      <th>1</th>\n",
       "      <td>tenis para caminhada super levinho spider corr...</td>\n",
       "      <td>tênis masculino caminhada levinho spider acade...</td>\n",
       "      <td>0.695795</td>\n",
       "    </tr>\n",
       "    <tr>\n",
       "      <th>2</th>\n",
       "      <td>tênis feminino le parc hocks blackice original...</td>\n",
       "      <td>tênis feminino hocks skatista le parc branco e...</td>\n",
       "      <td>0.718189</td>\n",
       "    </tr>\n",
       "    <tr>\n",
       "      <th>3</th>\n",
       "      <td>tênis olympikus esportivo academia nova tendên...</td>\n",
       "      <td>tênis olympikus esportivo academia nova tendên...</td>\n",
       "      <td>0.667771</td>\n",
       "    </tr>\n",
       "    <tr>\n",
       "      <th>4</th>\n",
       "      <td>inteligente led bicicleta tauda luz usb bicicl...</td>\n",
       "      <td>bicicleta</td>\n",
       "      <td>0.319583</td>\n",
       "    </tr>\n",
       "  </tbody>\n",
       "</table>\n",
       "</div>"
      ],
      "text/plain": [
       "                                                Item  \\\n",
       "0  tênis ascension posh masculino  preto e vermelho    \n",
       "1  tenis para caminhada super levinho spider corr...   \n",
       "2  tênis feminino le parc hocks blackice original...   \n",
       "3  tênis olympikus esportivo academia nova tendên...   \n",
       "4  inteligente led bicicleta tauda luz usb bicicl...   \n",
       "\n",
       "                                   Most similar item  Similarity score  \n",
       "0  tênis masculino ascension caminhada barato pre...          0.586383  \n",
       "1  tênis masculino caminhada levinho spider acade...          0.695795  \n",
       "2  tênis feminino hocks skatista le parc branco e...          0.718189  \n",
       "3  tênis olympikus esportivo academia nova tendên...          0.667771  \n",
       "4                                          bicicleta          0.319583  "
      ]
     },
     "execution_count": 61,
     "metadata": {},
     "output_type": "execute_result"
    }
   ],
   "source": [
    "items_similarity.head(5)"
   ]
  },
  {
   "attachments": {},
   "cell_type": "markdown",
   "metadata": {},
   "source": [
    "## Dataset de Test"
   ]
  },
  {
   "attachments": {},
   "cell_type": "markdown",
   "metadata": {},
   "source": [
    "Para este dataset se realiza el mismo proceso, pero se utiliza el objeto de vectorizado con el cual se hizo el fit con los datos de entrenamiento y adicional se guardan los resultados en un archivo csv con cada par de items similares junto con su score."
   ]
  },
  {
   "cell_type": "code",
   "execution_count": 69,
   "metadata": {},
   "outputs": [],
   "source": [
    "# Load the test dataset\n",
    "test_data = pd.read_csv(\"../dataset/items_titles_test.csv\")\n",
    "\n",
    "# Preprocess the test dataset\n",
    "test_data['ITE_ITEM_TITLE'] = test_data['ITE_ITEM_TITLE'].str.lower()\n",
    "\n",
    "# Vectorize the test dataset using the same vectorizer object\n",
    "vectorized_test_data = vectorizer.transform(test_data['ITE_ITEM_TITLE'])\n",
    "\n",
    "# Calculate cosine similarity between the test dataset and the training dataset\n",
    "test_cosine_similarities = cosine_similarity(vectorized_test_data)"
   ]
  },
  {
   "cell_type": "code",
   "execution_count": 70,
   "metadata": {},
   "outputs": [],
   "source": [
    "results = []\n",
    "for i, row in enumerate(test_data.itertuples()):\n",
    "    title = row.ITE_ITEM_TITLE\n",
    "    similarity_scores = test_cosine_similarities[i]   \n",
    "    most_similar_indices = similarity_scores.argsort()[-2:][::-1]\n",
    "    most_similar_title = test_data.iloc[most_similar_indices[1]].ITE_ITEM_TITLE\n",
    "    similarity = similarity_scores[most_similar_indices[1]]\n",
    "    results.append({'Item': title, 'Most similar item': most_similar_title, 'Similarity score': similarity})\n",
    "results_df = pd.DataFrame(results)"
   ]
  },
  {
   "cell_type": "code",
   "execution_count": 72,
   "metadata": {},
   "outputs": [
    {
     "data": {
      "text/html": [
       "<div>\n",
       "<style scoped>\n",
       "    .dataframe tbody tr th:only-of-type {\n",
       "        vertical-align: middle;\n",
       "    }\n",
       "\n",
       "    .dataframe tbody tr th {\n",
       "        vertical-align: top;\n",
       "    }\n",
       "\n",
       "    .dataframe thead th {\n",
       "        text-align: right;\n",
       "    }\n",
       "</style>\n",
       "<table border=\"1\" class=\"dataframe\">\n",
       "  <thead>\n",
       "    <tr style=\"text-align: right;\">\n",
       "      <th></th>\n",
       "      <th>Item</th>\n",
       "      <th>Most similar item</th>\n",
       "      <th>Similarity score</th>\n",
       "    </tr>\n",
       "  </thead>\n",
       "  <tbody>\n",
       "    <tr>\n",
       "      <th>0</th>\n",
       "      <td>tênis olympikus esporte valente - masculino kids</td>\n",
       "      <td>tênis olympikus masculino valente - kids infan...</td>\n",
       "      <td>0.836405</td>\n",
       "    </tr>\n",
       "    <tr>\n",
       "      <th>1</th>\n",
       "      <td>bicicleta barra forte samy c/ 6 marchas cubo c...</td>\n",
       "      <td>bicicleta leve dobra roda de rolamento fácil de</td>\n",
       "      <td>0.280689</td>\n",
       "    </tr>\n",
       "    <tr>\n",
       "      <th>2</th>\n",
       "      <td>tênis usthemp slip-on temático - labrador 2</td>\n",
       "      <td>tênis usthemp volare temático - labrador 2</td>\n",
       "      <td>0.711222</td>\n",
       "    </tr>\n",
       "    <tr>\n",
       "      <th>3</th>\n",
       "      <td>tênis casual feminino moleca tecido tie dye</td>\n",
       "      <td>tênis kolosh casual tie dye</td>\n",
       "      <td>0.663838</td>\n",
       "    </tr>\n",
       "    <tr>\n",
       "      <th>4</th>\n",
       "      <td>tênis star baby sapatinho conforto + brinde</td>\n",
       "      <td>tenis infantil meninas kidy conforto macio bab...</td>\n",
       "      <td>0.392061</td>\n",
       "    </tr>\n",
       "    <tr>\n",
       "      <th>5</th>\n",
       "      <td>tênis oakley frequency 3.0 preto/marrom</td>\n",
       "      <td>tênis oakley blocked preto</td>\n",
       "      <td>0.538233</td>\n",
       "    </tr>\n",
       "    <tr>\n",
       "      <th>6</th>\n",
       "      <td>tênis jogging feminino premium super lançament...</td>\n",
       "      <td>vizzano tênis casuai</td>\n",
       "      <td>0.426179</td>\n",
       "    </tr>\n",
       "    <tr>\n",
       "      <th>7</th>\n",
       "      <td>under armour hovr phantom 2 conexão bluetooth ...</td>\n",
       "      <td>tênis under armour hovr phantom 2 masculino</td>\n",
       "      <td>0.786370</td>\n",
       "    </tr>\n",
       "    <tr>\n",
       "      <th>8</th>\n",
       "      <td>tenis infantil feminino menina criança moça</td>\n",
       "      <td>tênis masculino infantil criança- 015998</td>\n",
       "      <td>0.713371</td>\n",
       "    </tr>\n",
       "    <tr>\n",
       "      <th>9</th>\n",
       "      <td>tênis labellamafia saturn 6 cores disponíveis</td>\n",
       "      <td>tênis unissex labellamafia saturn 2 vermelho</td>\n",
       "      <td>0.771643</td>\n",
       "    </tr>\n",
       "  </tbody>\n",
       "</table>\n",
       "</div>"
      ],
      "text/plain": [
       "                                                Item  \\\n",
       "0   tênis olympikus esporte valente - masculino kids   \n",
       "1  bicicleta barra forte samy c/ 6 marchas cubo c...   \n",
       "2       tênis usthemp slip-on temático - labrador 2   \n",
       "3        tênis casual feminino moleca tecido tie dye   \n",
       "4        tênis star baby sapatinho conforto + brinde   \n",
       "5            tênis oakley frequency 3.0 preto/marrom   \n",
       "6  tênis jogging feminino premium super lançament...   \n",
       "7  under armour hovr phantom 2 conexão bluetooth ...   \n",
       "8        tenis infantil feminino menina criança moça   \n",
       "9      tênis labellamafia saturn 6 cores disponíveis   \n",
       "\n",
       "                                   Most similar item  Similarity score  \n",
       "0  tênis olympikus masculino valente - kids infan...          0.836405  \n",
       "1    bicicleta leve dobra roda de rolamento fácil de          0.280689  \n",
       "2        tênis usthemp volare temático - labrador 2          0.711222  \n",
       "3                        tênis kolosh casual tie dye          0.663838  \n",
       "4  tenis infantil meninas kidy conforto macio bab...          0.392061  \n",
       "5                         tênis oakley blocked preto          0.538233  \n",
       "6                               vizzano tênis casuai          0.426179  \n",
       "7        tênis under armour hovr phantom 2 masculino          0.786370  \n",
       "8           tênis masculino infantil criança- 015998          0.713371  \n",
       "9       tênis unissex labellamafia saturn 2 vermelho          0.771643  "
      ]
     },
     "execution_count": 72,
     "metadata": {},
     "output_type": "execute_result"
    }
   ],
   "source": [
    "results_df.head(10)"
   ]
  },
  {
   "attachments": {},
   "cell_type": "markdown",
   "metadata": {},
   "source": [
    "se ordena por score de similitud para encontrar los pares de productos mas similares en el dataset de test"
   ]
  },
  {
   "cell_type": "code",
   "execution_count": 76,
   "metadata": {},
   "outputs": [
    {
     "data": {
      "text/html": [
       "<div>\n",
       "<style scoped>\n",
       "    .dataframe tbody tr th:only-of-type {\n",
       "        vertical-align: middle;\n",
       "    }\n",
       "\n",
       "    .dataframe tbody tr th {\n",
       "        vertical-align: top;\n",
       "    }\n",
       "\n",
       "    .dataframe thead th {\n",
       "        text-align: right;\n",
       "    }\n",
       "</style>\n",
       "<table border=\"1\" class=\"dataframe\">\n",
       "  <thead>\n",
       "    <tr style=\"text-align: right;\">\n",
       "      <th></th>\n",
       "      <th>Item</th>\n",
       "      <th>Most similar item</th>\n",
       "      <th>Similarity score</th>\n",
       "    </tr>\n",
       "  </thead>\n",
       "  <tbody>\n",
       "    <tr>\n",
       "      <th>9454</th>\n",
       "      <td>tênis activtta corrida masculino esportivo cat...</td>\n",
       "      <td>tênis activtta corrida masculino esportivo cat...</td>\n",
       "      <td>1.0</td>\n",
       "    </tr>\n",
       "    <tr>\n",
       "      <th>7627</th>\n",
       "      <td>tênis esportivo activtta masculino cataluna co...</td>\n",
       "      <td>tênis activtta corrida masculino esportivo cat...</td>\n",
       "      <td>1.0</td>\n",
       "    </tr>\n",
       "    <tr>\n",
       "      <th>138</th>\n",
       "      <td>tênis mizuno wave prophecy 6 - ref***000017</td>\n",
       "      <td>tênis mizuno wave prophecy 6 -  ref***0000057</td>\n",
       "      <td>1.0</td>\n",
       "    </tr>\n",
       "    <tr>\n",
       "      <th>7948</th>\n",
       "      <td>sapatilha absolute mtb wild preto/vermelho</td>\n",
       "      <td>sapatilha absolute mtb wild preto/vermelho</td>\n",
       "      <td>1.0</td>\n",
       "    </tr>\n",
       "    <tr>\n",
       "      <th>7957</th>\n",
       "      <td>tênis lindo</td>\n",
       "      <td>lindo tênis</td>\n",
       "      <td>1.0</td>\n",
       "    </tr>\n",
       "  </tbody>\n",
       "</table>\n",
       "</div>"
      ],
      "text/plain": [
       "                                                   Item  \\\n",
       "9454  tênis activtta corrida masculino esportivo cat...   \n",
       "7627  tênis esportivo activtta masculino cataluna co...   \n",
       "138         tênis mizuno wave prophecy 6 - ref***000017   \n",
       "7948         sapatilha absolute mtb wild preto/vermelho   \n",
       "7957                                        tênis lindo   \n",
       "\n",
       "                                      Most similar item  Similarity score  \n",
       "9454  tênis activtta corrida masculino esportivo cat...               1.0  \n",
       "7627  tênis activtta corrida masculino esportivo cat...               1.0  \n",
       "138       tênis mizuno wave prophecy 6 -  ref***0000057               1.0  \n",
       "7948         sapatilha absolute mtb wild preto/vermelho               1.0  \n",
       "7957                                       lindo tênis                1.0  "
      ]
     },
     "execution_count": 76,
     "metadata": {},
     "output_type": "execute_result"
    }
   ],
   "source": [
    "results_df = results_df.sort_values(by=[\"Similarity score\"], ascending=False)\n",
    "results_df.head(5)"
   ]
  },
  {
   "cell_type": "code",
   "execution_count": 77,
   "metadata": {},
   "outputs": [],
   "source": [
    "# Save the DataFrame to a CSV file\n",
    "results_df.to_csv('items_similarity_test.csv', index=False)"
   ]
  }
 ],
 "metadata": {
  "kernelspec": {
   "display_name": "Python 3 (ipykernel)",
   "language": "python",
   "name": "python3"
  },
  "language_info": {
   "codemirror_mode": {
    "name": "ipython",
    "version": 3
   },
   "file_extension": ".py",
   "mimetype": "text/x-python",
   "name": "python",
   "nbconvert_exporter": "python",
   "pygments_lexer": "ipython3",
   "version": "3.9.12"
  }
 },
 "nbformat": 4,
 "nbformat_minor": 2
}
